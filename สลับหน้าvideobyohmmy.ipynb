{
  "nbformat": 4,
  "nbformat_minor": 0,
  "metadata": {
    "colab": {
      "private_outputs": true,
      "provenance": [],
      "authorship_tag": "ABX9TyN/IBPEIbLVMQtahY1c/kvE",
      "include_colab_link": true
    },
    "kernelspec": {
      "name": "python3",
      "display_name": "Python 3"
    },
    "language_info": {
      "name": "python"
    }
  },
  "cells": [
    {
      "cell_type": "markdown",
      "metadata": {
        "id": "view-in-github",
        "colab_type": "text"
      },
      "source": [
        "<a href=\"https://colab.research.google.com/github/pathtanan/roop/blob/main/%E0%B8%AA%E0%B8%A5%E0%B8%B1%E0%B8%9A%E0%B8%AB%E0%B8%99%E0%B9%89%E0%B8%B2videobyohmmy.ipynb\" target=\"_parent\"><img src=\"https://colab.research.google.com/assets/colab-badge.svg\" alt=\"Open In Colab\"/></a>"
      ]
    },
    {
      "cell_type": "markdown",
      "source": [
        "run ทีล่ะ ตัว ตั้งแต่ ต้น ต้องใช้ runtime เป็น T4เท่านั้น\n",
        " Connect Google Drive (Your Drive)"
      ],
      "metadata": {
        "id": "D2Kpj5S9L_Ng"
      }
    },
    {
      "cell_type": "code",
      "source": [
        "from google.colab import drive\n",
        "drive.mount('/content/drive')"
      ],
      "metadata": {
        "id": "VJVEQjPFLuZx"
      },
      "execution_count": null,
      "outputs": []
    },
    {
      "cell_type": "markdown",
      "source": [
        "Clone git to google Drive Install Requirement"
      ],
      "metadata": {
        "id": "1zMbhfY8L2BX"
      }
    },
    {
      "cell_type": "code",
      "execution_count": null,
      "metadata": {
        "id": "EofQqZgILUtG"
      },
      "outputs": [],
      "source": [
        "%cd /content/drive/MyDrive\n",
        "!git clone https://github.com/based9based/roop\n",
        "%cd /content/drive/MyDrive/roop\n",
        "!pip install -r requirements.txt"
      ]
    },
    {
      "cell_type": "markdown",
      "source": [
        "Download Model Swapper To Your Drive"
      ],
      "metadata": {
        "id": "rCYs4h5mMYVr"
      }
    },
    {
      "cell_type": "code",
      "source": [
        "%cd /content/drive/MyDrive\n",
        "!wget https://civitai.com/api/download/models/85159 -O inswapper_128.onnx"
      ],
      "metadata": {
        "id": "JVR3LsyAMTfv"
      },
      "execution_count": null,
      "outputs": []
    },
    {
      "cell_type": "code",
      "source": [
        "%cd /content/drive/MyDrive/roop\n",
        "#@markdown #### upload file รูปภาพและfile video ที่จะใช้สลับหน้า ไปไว้ใน google drive แล้วชี้ part file ไปให้ถูก Video ไม่เกิน 1-3 นาทีเช่น file .mp4 file รูป.jpg หรือ .png ที่ต้องการสลับหน้าเป็น ต้นทาง เช่น:/content/drive/MyDrive/img.png เช่น:/content/drive/MyDrive/video.mp4:จากนั้นใส่ part file ที่เรา upload ไว้ชี้ partไปให้ถูก\n",
        "video = \"/content/drive/MyDrive/11.mp4\" #@param {'type': 'string'}\n",
        "image = \"/content/drive/MyDrive/11.jpg\" #@param {'type': 'string'}\n",
        "#@markdown #### นี่คือ ช่องใส่ part file ที่จะสลับหน้าเป็นปลายทาง ตัวอย่าง:/content/drive/MyDrive/face_changed.mp4 (กำหนดชื่อ fileใหม่ นามสกุลเดียวกันกับ file video ต้นทาง)\n",
        "output = \"/content/drive/MyDrive/511.mp4\" #@param {'type': 'string'}\n",
        "!python run.py --target $video --source $image -o $output --output-video-encoder 'h264_nvenc' --execution-provider cuda --frame-processor face_swapper --max-memory 16 --keep-fps"
      ],
      "metadata": {
        "id": "ZRQetydoMqpG"
      },
      "execution_count": null,
      "outputs": []
    }
  ]
}